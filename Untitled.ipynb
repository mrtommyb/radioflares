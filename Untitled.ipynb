{
 "cells": [
  {
   "cell_type": "code",
   "execution_count": 1,
   "metadata": {
    "collapsed": true
   },
   "outputs": [],
   "source": [
    "from __future__ import print_function, division\n",
    "import numpy as np\n",
    "import matplotlib.pyplot as plt\n",
    "import pandas as pd"
   ]
  },
  {
   "cell_type": "code",
   "execution_count": 3,
   "metadata": {
    "collapsed": false
   },
   "outputs": [],
   "source": [
    "%matplotlib inline"
   ]
  },
  {
   "cell_type": "code",
   "execution_count": 111,
   "metadata": {
    "collapsed": false
   },
   "outputs": [],
   "source": [
    "df = pd.read_table('flare-stars.txt', sep=',', skiprows=7, )"
   ]
  },
  {
   "cell_type": "code",
   "execution_count": 139,
   "metadata": {
    "collapsed": false
   },
   "outputs": [
    {
     "ename": "TypeError",
     "evalue": "ufunc 'isfinite' not supported for the input types, and the inputs could not be safely coerced to any supported types according to the casting rule ''safe''",
     "output_type": "error",
     "traceback": [
      "\u001b[0;31m---------------------------------------------------------------------------\u001b[0m",
      "\u001b[0;31mTypeError\u001b[0m                                 Traceback (most recent call last)",
      "\u001b[0;32m<ipython-input-139-2bd18efd364a>\u001b[0m in \u001b[0;36m<module>\u001b[0;34m()\u001b[0m\n\u001b[1;32m      6\u001b[0m \u001b[0;34m\u001b[0m\u001b[0m\n\u001b[1;32m      7\u001b[0m \u001b[0mdf\u001b[0m\u001b[0;34m[\u001b[0m\u001b[0;34m'mag'\u001b[0m\u001b[0;34m]\u001b[0m \u001b[0;34m=\u001b[0m \u001b[0mdf\u001b[0m\u001b[0;34m[\u001b[0m\u001b[0;34m[\u001b[0m\u001b[0;34m'Mag V'\u001b[0m\u001b[0;34m,\u001b[0m \u001b[0;34m'Mag R'\u001b[0m\u001b[0;34m,\u001b[0m \u001b[0;34m'Mag I'\u001b[0m\u001b[0;34m,\u001b[0m \u001b[0;34m'Mag B'\u001b[0m\u001b[0;34m,\u001b[0m \u001b[0;34m'Mag U'\u001b[0m\u001b[0;34m]\u001b[0m\u001b[0;34m]\u001b[0m\u001b[0;34m.\u001b[0m\u001b[0mmin\u001b[0m\u001b[0;34m(\u001b[0m\u001b[0maxis\u001b[0m\u001b[0;34m=\u001b[0m\u001b[0;36m1\u001b[0m\u001b[0;34m,\u001b[0m \u001b[0mnumeric_only\u001b[0m\u001b[0;34m=\u001b[0m\u001b[0mTrue\u001b[0m\u001b[0;34m)\u001b[0m\u001b[0;34m\u001b[0m\u001b[0m\n\u001b[0;32m----> 8\u001b[0;31m \u001b[0mdf\u001b[0m\u001b[0;34m.\u001b[0m\u001b[0mloc\u001b[0m\u001b[0;34m[\u001b[0m\u001b[0;34m:\u001b[0m\u001b[0;34m,\u001b[0m\u001b[0;34m(\u001b[0m\u001b[0mnp\u001b[0m\u001b[0;34m.\u001b[0m\u001b[0misfinite\u001b[0m\u001b[0;34m(\u001b[0m\u001b[0;34m'mag'\u001b[0m\u001b[0;34m)\u001b[0m\u001b[0;34m)\u001b[0m\u001b[0;34m]\u001b[0m\u001b[0;34m\u001b[0m\u001b[0m\n\u001b[0m\u001b[1;32m      9\u001b[0m \u001b[0;31m#df['mag'][np.isnan(df['mag'])] = 50.0\u001b[0m\u001b[0;34m\u001b[0m\u001b[0;34m\u001b[0m\u001b[0m\n",
      "\u001b[0;31mTypeError\u001b[0m: ufunc 'isfinite' not supported for the input types, and the inputs could not be safely coerced to any supported types according to the casting rule ''safe''"
     ]
    }
   ],
   "source": [
    "#[df.coord1_ICRS_J2000[i].split[' '][0] for i in range(len(df))]\n",
    "df['ra'] = [float(df.coord1_ICRS_J2000[i].split(' ')[0]) for i in range(len(df.index))]\n",
    "df['dec'] = [float(df.coord1_ICRS_J2000[i].split(' ')[1]) for i in range(len(df.index))]\n",
    "\n",
    "\n",
    "\n",
    "df['mag'] = df[['Mag V', 'Mag R', 'Mag I', 'Mag B', 'Mag U']].min(axis=1, numeric_only=True)\n",
    "df.loc[:,(np.isfinite('mag'))]\n",
    "#df['mag'][np.isnan(df['mag'])] = 50.0"
   ]
  },
  {
   "cell_type": "code",
   "execution_count": 118,
   "metadata": {
    "collapsed": false
   },
   "outputs": [
    {
     "data": {
      "text/plain": [
       "0       14.100\n",
       "1       15.000\n",
       "2       14.840\n",
       "3       15.700\n",
       "4       14.581\n",
       "5       14.000\n",
       "6       11.160\n",
       "7       15.200\n",
       "8          NaN\n",
       "9       12.720\n",
       "10      17.200\n",
       "11      14.277\n",
       "12      14.000\n",
       "13      15.300\n",
       "14      14.720\n",
       "15      12.120\n",
       "16      10.700\n",
       "17      15.100\n",
       "18      10.920\n",
       "19      14.329\n",
       "20      16.300\n",
       "21      11.630\n",
       "22      10.800\n",
       "23      15.300\n",
       "24      14.800\n",
       "25      12.479\n",
       "26      14.022\n",
       "27         NaN\n",
       "28      14.900\n",
       "29         NaN\n",
       "         ...  \n",
       "1991    12.830\n",
       "1992    14.410\n",
       "1993    12.904\n",
       "1994    14.110\n",
       "1995    16.200\n",
       "1996    16.500\n",
       "1997    12.110\n",
       "1998    13.740\n",
       "1999    14.500\n",
       "2000    13.300\n",
       "2001    14.190\n",
       "2002    19.800\n",
       "2003    16.000\n",
       "2004    15.000\n",
       "2005    11.213\n",
       "2006    13.225\n",
       "2007    14.800\n",
       "2008    16.100\n",
       "2009       NaN\n",
       "2010     9.900\n",
       "2011    10.530\n",
       "2012    13.900\n",
       "2013    12.500\n",
       "2014    14.100\n",
       "2015    15.000\n",
       "2016    14.830\n",
       "2017    17.620\n",
       "2018    15.500\n",
       "2019    16.100\n",
       "2020    14.800\n",
       "Name: mag, dtype: float64"
      ]
     },
     "execution_count": 118,
     "metadata": {},
     "output_type": "execute_result"
    }
   ],
   "source": [
    "#df.to_csv('flare-coord.csv', columns=['ra', 'dec', ])\n",
    "df['mag']"
   ]
  },
  {
   "cell_type": "code",
   "execution_count": null,
   "metadata": {
    "collapsed": true
   },
   "outputs": [],
   "source": []
  }
 ],
 "metadata": {
  "kernelspec": {
   "display_name": "Python 2",
   "language": "python",
   "name": "python2"
  },
  "language_info": {
   "codemirror_mode": {
    "name": "ipython",
    "version": 2
   },
   "file_extension": ".py",
   "mimetype": "text/x-python",
   "name": "python",
   "nbconvert_exporter": "python",
   "pygments_lexer": "ipython2",
   "version": "2.7.11"
  }
 },
 "nbformat": 4,
 "nbformat_minor": 0
}
