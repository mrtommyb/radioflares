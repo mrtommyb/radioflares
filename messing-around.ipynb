{
 "cells": [
  {
   "cell_type": "code",
   "execution_count": 1,
   "metadata": {
    "collapsed": true
   },
   "outputs": [],
   "source": [
    "from __future__ import print_function, division\n",
    "import numpy as np\n",
    "import matplotlib.pyplot as plt\n",
    "import pandas as pd\n",
    "\n",
    "from K2fov import K2findCampaigns\n",
    "\n",
    "from tqdm import tnrange, tqdm_notebook"
   ]
  },
  {
   "cell_type": "code",
   "execution_count": 2,
   "metadata": {
    "collapsed": false
   },
   "outputs": [],
   "source": [
    "%matplotlib inline"
   ]
  },
  {
   "cell_type": "code",
   "execution_count": 3,
   "metadata": {
    "collapsed": false
   },
   "outputs": [],
   "source": [
    "df = pd.read_table('flare-stars.txt', delim_whitespace=True, )\n",
    "df[[u'index', u'ra', u'dec', u'MagU', u'MagB',\n",
    "       u'MagV', u'MagR', u'MagI', u'Magg', u'Magr', u'bib',\n",
    "       u'not']] = df[[u'index', u'ra', u'dec', u'MagU', u'MagB',\n",
    "       u'MagV', u'MagR', u'MagI', u'Magg', u'Magr', u'bib',\n",
    "       u'not']].apply(pd.to_numeric, errors='coerce')"
   ]
  },
  {
   "cell_type": "code",
   "execution_count": 4,
   "metadata": {
    "collapsed": false
   },
   "outputs": [],
   "source": [
    "df['mag'] = df[['MagU', 'MagB', 'MagV', 'MagR', 'MagI', 'Magg', 'Magr']].min(axis=1, numeric_only=True)\n",
    "df['mag'] = df['mag'].replace(np.nan, 50.0)"
   ]
  },
  {
   "cell_type": "code",
   "execution_count": 5,
   "metadata": {
    "collapsed": false
   },
   "outputs": [
    {
     "name": "stdout",
     "output_type": "stream",
     "text": [
      "\n"
     ]
    }
   ],
   "source": [
    "df['inCA'] = np.zeros_like(df['index']) * np.nan\n",
    "df['inCB'] = np.zeros_like(df['index']) * np.nan\n",
    "for i in tnrange(len(df.index)):\n",
    "    try:\n",
    "        c = K2findCampaigns.findCampaigns(float(df['ra'][i]), float(df['dec'][i]))\n",
    "            \n",
    "        if len(c) == 1:\n",
    "            df.loc[i,'inCA'] = int(c[0])\n",
    "        if len(c) == 2:\n",
    "            df.loc[i,'inCA'] = int(c[0])\n",
    "            df.loc[i,'inCB'] = int(c[1])\n",
    "    except ValueError:\n",
    "        continue\n"
   ]
  },
  {
   "cell_type": "code",
   "execution_count": 6,
   "metadata": {
    "collapsed": false
   },
   "outputs": [],
   "source": [
    "df['observedable'] = np.isfinite(df['inCA'])"
   ]
  },
  {
   "cell_type": "code",
   "execution_count": 7,
   "metadata": {
    "collapsed": false
   },
   "outputs": [],
   "source": [
    "obs = df[(df['observedable'])]"
   ]
  },
  {
   "cell_type": "code",
   "execution_count": 9,
   "metadata": {
    "collapsed": false
   },
   "outputs": [],
   "source": [
    "savetable = obs.sort_values('bib', ascending=False).loc[(obs['inCA'] >=12.0) | (obs['inCB'] > 12.0) ]"
   ]
  },
  {
   "cell_type": "code",
   "execution_count": null,
   "metadata": {
    "collapsed": false
   },
   "outputs": [],
   "source": [
    "savetable.to_csv('')"
   ]
  },
  {
   "cell_type": "code",
   "execution_count": null,
   "metadata": {
    "collapsed": false
   },
   "outputs": [],
   "source": []
  },
  {
   "cell_type": "code",
   "execution_count": null,
   "metadata": {
    "collapsed": true
   },
   "outputs": [],
   "source": []
  }
 ],
 "metadata": {
  "kernelspec": {
   "display_name": "Python 2",
   "language": "python",
   "name": "python2"
  },
  "language_info": {
   "codemirror_mode": {
    "name": "ipython",
    "version": 2
   },
   "file_extension": ".py",
   "mimetype": "text/x-python",
   "name": "python",
   "nbconvert_exporter": "python",
   "pygments_lexer": "ipython2",
   "version": "2.7.11"
  }
 },
 "nbformat": 4,
 "nbformat_minor": 0
}
